{
  "nbformat": 4,
  "nbformat_minor": 0,
  "metadata": {
    "accelerator": "GPU",
    "colab": {
      "name": "DGA_prediction.ipynb",
      "provenance": [],
      "authorship_tag": "ABX9TyNmQdLfuK1AA54MW5+rXz0v",
      "include_colab_link": true
    },
    "kernelspec": {
      "display_name": "Python 3",
      "name": "python3"
    },
    "language_info": {
      "name": "python"
    }
  },
  "cells": [
    {
      "cell_type": "markdown",
      "metadata": {
        "id": "view-in-github",
        "colab_type": "text"
      },
      "source": [
        "<a href=\"https://colab.research.google.com/github/krmonline/AFSCTraining/blob/master/DGA_prediction.ipynb\" target=\"_parent\"><img src=\"https://colab.research.google.com/assets/colab-badge.svg\" alt=\"Open In Colab\"/></a>"
      ]
    },
    {
      "cell_type": "code",
      "metadata": {
        "id": "pqoD6Bx2aYJy"
      },
      "source": [
        "import requests\n",
        "import pandas as pd\n",
        "import numpy as np\n",
        "import tensorflow as tf\n",
        "import matplotlib.pyplot as plt\n"
      ],
      "execution_count": null,
      "outputs": []
    },
    {
      "cell_type": "code",
      "metadata": {
        "id": "QR0HWEY0SlBH"
      },
      "source": [
        "CHARS = [\n",
        "  '\\n', ' ', '!', '\"', '#', '$', '%', '&', \"'\", '(', ')', '*', '+',\n",
        "  ',', '-', '.', '/', '0', '1', '2', '3', '4', '5', '6', '7', '8',\n",
        "  '9', ':', ';', '<', '=', '>', '?', '@', 'A', 'B', 'C', 'D', 'E',\n",
        "  'F', 'G', 'H', 'I', 'J', 'K', 'L', 'M', 'N', 'O', 'P', 'Q', 'R',\n",
        "  'S', 'T', 'U', 'V', 'W', 'X', 'Y', 'Z', '[', '\\\\', ']', '^', '_',\n",
        "  'a', 'b', 'c', 'd', 'e', 'f', 'g', 'h', 'i', 'j', 'k', 'l', 'm',\n",
        "  'n', 'o', 'other', 'p', 'q', 'r', 's', 't', 'u', 'v', 'w', 'x', 'y',\n",
        "  'z', '}', '~', 'ก', 'ข', 'ฃ', 'ค', 'ฅ', 'ฆ', 'ง', 'จ', 'ฉ', 'ช',\n",
        "  'ซ', 'ฌ', 'ญ', 'ฎ', 'ฏ', 'ฐ', 'ฑ', 'ฒ', 'ณ', 'ด', 'ต', 'ถ', 'ท',\n",
        "  'ธ', 'น', 'บ', 'ป', 'ผ', 'ฝ', 'พ', 'ฟ', 'ภ', 'ม', 'ย', 'ร', 'ฤ',\n",
        "  'ล', 'ว', 'ศ', 'ษ', 'ส', 'ห', 'ฬ', 'อ', 'ฮ', 'ฯ', 'ะ', 'ั', 'า',\n",
        "  'ำ', 'ิ', 'ี', 'ึ', 'ื', 'ุ', 'ู', 'ฺ', 'เ', 'แ', 'โ', 'ใ', 'ไ',\n",
        "  'ๅ', 'ๆ', '็', '่', '้', '๊', '๋', '์', 'ํ', '๐', '๑', '๒', '๓',\n",
        "  '๔', '๕', '๖', '๗', '๘', '๙', '‘', '’', '\\ufeff'\n",
        "]\n",
        "CHARS_MAP = {v: k for k, v in enumerate(CHARS)}\n",
        "\n",
        "def name2arr(x):\n",
        "  result = \"\"\n",
        "  for i in x:\n",
        "    if i not in CHARS_MAP:\n",
        "      i = '\\ufeff' #OutOfVocab\n",
        "    if result == \"\":\n",
        "      result = str(CHARS_MAP[i])\n",
        "    else:\n",
        "      result = result + \",\" + str(CHARS_MAP[i])\n",
        "  return result"
      ],
      "execution_count": null,
      "outputs": []
    },
    {
      "cell_type": "code",
      "metadata": {
        "id": "XMuoKciPcLOu"
      },
      "source": [
        "df_false = pd.read_csv(\"https://raw.githubusercontent.com/philarkwright/DGA-Detection/master/data/dga_training.txt\",names = ['domain'])\n",
        "df_true = pd.read_csv(\"https://raw.githubusercontent.com/handshake-org/hs-names/master/data/top-1m.csv\",names = ['domain'])\n",
        "df_false['label'] = 1\n",
        "df_true['label'] = 0\n",
        "#df_true.sample(100000)\n",
        "df_true = df_true.iloc[:100000].copy()"
      ],
      "execution_count": null,
      "outputs": []
    },
    {
      "cell_type": "code",
      "metadata": {
        "id": "dIgMRnybSVSR"
      },
      "source": [
        "df = pd.concat([df_false,df_true])"
      ],
      "execution_count": null,
      "outputs": []
    },
    {
      "cell_type": "code",
      "metadata": {
        "id": "OnnFKr0rVb-4"
      },
      "source": [
        "df['arr_num'] = df.domain.apply(name2arr)"
      ],
      "execution_count": null,
      "outputs": []
    },
    {
      "cell_type": "code",
      "metadata": {
        "colab": {
          "base_uri": "https://localhost:8080/",
          "height": 419
        },
        "id": "_1V8LHSKVwo2",
        "outputId": "857df16f-fc86-4b4d-e8f1-4289af380d92"
      },
      "source": [
        "df"
      ],
      "execution_count": null,
      "outputs": [
        {
          "output_type": "execute_result",
          "data": {
            "text/html": [
              "<div>\n",
              "<style scoped>\n",
              "    .dataframe tbody tr th:only-of-type {\n",
              "        vertical-align: middle;\n",
              "    }\n",
              "\n",
              "    .dataframe tbody tr th {\n",
              "        vertical-align: top;\n",
              "    }\n",
              "\n",
              "    .dataframe thead th {\n",
              "        text-align: right;\n",
              "    }\n",
              "</style>\n",
              "<table border=\"1\" class=\"dataframe\">\n",
              "  <thead>\n",
              "    <tr style=\"text-align: right;\">\n",
              "      <th></th>\n",
              "      <th>domain</th>\n",
              "      <th>label</th>\n",
              "      <th>arr_num</th>\n",
              "    </tr>\n",
              "  </thead>\n",
              "  <tbody>\n",
              "    <tr>\n",
              "      <th>0</th>\n",
              "      <td>gllcsbqrbfch.com</td>\n",
              "      <td>1</td>\n",
              "      <td>71,76,76,67,84,66,82,83,66,70,67,72,15,67,79,77</td>\n",
              "    </tr>\n",
              "    <tr>\n",
              "      <th>1</th>\n",
              "      <td>hkgjjokkwodt.com</td>\n",
              "      <td>1</td>\n",
              "      <td>72,75,71,74,74,79,75,75,88,79,68,85,15,67,79,77</td>\n",
              "    </tr>\n",
              "    <tr>\n",
              "      <th>2</th>\n",
              "      <td>jjnehudfmclq.com</td>\n",
              "      <td>1</td>\n",
              "      <td>74,74,78,69,72,86,68,70,77,67,76,82,15,67,79,77</td>\n",
              "    </tr>\n",
              "    <tr>\n",
              "      <th>3</th>\n",
              "      <td>hieffvbcjitc.com</td>\n",
              "      <td>1</td>\n",
              "      <td>72,73,69,70,70,87,66,67,74,73,85,67,15,67,79,77</td>\n",
              "    </tr>\n",
              "    <tr>\n",
              "      <th>4</th>\n",
              "      <td>fckjmggtxchv.com</td>\n",
              "      <td>1</td>\n",
              "      <td>70,67,75,74,77,71,71,85,89,67,72,87,15,67,79,77</td>\n",
              "    </tr>\n",
              "    <tr>\n",
              "      <th>...</th>\n",
              "      <td>...</td>\n",
              "      <td>...</td>\n",
              "      <td>...</td>\n",
              "    </tr>\n",
              "    <tr>\n",
              "      <th>99996</th>\n",
              "      <td>mir-ved.ru</td>\n",
              "      <td>0</td>\n",
              "      <td>77,73,83,14,87,69,68,15,83,86</td>\n",
              "    </tr>\n",
              "    <tr>\n",
              "      <th>99997</th>\n",
              "      <td>coffeenews.it</td>\n",
              "      <td>0</td>\n",
              "      <td>67,79,70,70,69,69,78,69,88,84,15,73,85</td>\n",
              "    </tr>\n",
              "    <tr>\n",
              "      <th>99998</th>\n",
              "      <td>iglo.co.in</td>\n",
              "      <td>0</td>\n",
              "      <td>73,71,76,79,15,67,79,15,73,78</td>\n",
              "    </tr>\n",
              "    <tr>\n",
              "      <th>99999</th>\n",
              "      <td>taketours.com</td>\n",
              "      <td>0</td>\n",
              "      <td>85,65,75,69,85,79,86,83,84,15,67,79,77</td>\n",
              "    </tr>\n",
              "    <tr>\n",
              "      <th>100000</th>\n",
              "      <td>aluguetemporada.com.br</td>\n",
              "      <td>0</td>\n",
              "      <td>65,76,86,71,86,69,85,69,77,81,79,83,65,68,65,1...</td>\n",
              "    </tr>\n",
              "  </tbody>\n",
              "</table>\n",
              "<p>200000 rows × 3 columns</p>\n",
              "</div>"
            ],
            "text/plain": [
              "                        domain  ...                                            arr_num\n",
              "0             gllcsbqrbfch.com  ...    71,76,76,67,84,66,82,83,66,70,67,72,15,67,79,77\n",
              "1             hkgjjokkwodt.com  ...    72,75,71,74,74,79,75,75,88,79,68,85,15,67,79,77\n",
              "2             jjnehudfmclq.com  ...    74,74,78,69,72,86,68,70,77,67,76,82,15,67,79,77\n",
              "3             hieffvbcjitc.com  ...    72,73,69,70,70,87,66,67,74,73,85,67,15,67,79,77\n",
              "4             fckjmggtxchv.com  ...    70,67,75,74,77,71,71,85,89,67,72,87,15,67,79,77\n",
              "...                        ...  ...                                                ...\n",
              "99996               mir-ved.ru  ...                      77,73,83,14,87,69,68,15,83,86\n",
              "99997            coffeenews.it  ...             67,79,70,70,69,69,78,69,88,84,15,73,85\n",
              "99998               iglo.co.in  ...                      73,71,76,79,15,67,79,15,73,78\n",
              "99999            taketours.com  ...             85,65,75,69,85,79,86,83,84,15,67,79,77\n",
              "100000  aluguetemporada.com.br  ...  65,76,86,71,86,69,85,69,77,81,79,83,65,68,65,1...\n",
              "\n",
              "[200000 rows x 3 columns]"
            ]
          },
          "metadata": {
            "tags": []
          },
          "execution_count": 6
        }
      ]
    },
    {
      "cell_type": "code",
      "metadata": {
        "colab": {
          "base_uri": "https://localhost:8080/"
        },
        "id": "oAftQqLwWbNG",
        "outputId": "13da2189-f540-40af-87e6-08631bee7919"
      },
      "source": [
        "arr_numID = []\n",
        "maxlen = 0\n",
        "n = 0\n",
        "for i in df.arr_num:\n",
        "  n = n+1\n",
        "  #print(n,i)\n",
        "  arr_tmp = [int(iInt) for iInt in i.split(',')]\n",
        "  #print(arr_tmp)\n",
        "  arr_numID.append(arr_tmp)\n",
        "  #print(i.split(','))\n",
        "  lentmp = len(arr_numID[-1])\n",
        "  if maxlen < lentmp:\n",
        "    maxlen = lentmp\n",
        "    #print(arr_tmp)\n",
        "maxlen = int(maxlen*1.5)\n",
        "print(maxlen)"
      ],
      "execution_count": null,
      "outputs": [
        {
          "output_type": "stream",
          "text": [
            "100\n"
          ],
          "name": "stdout"
        }
      ]
    },
    {
      "cell_type": "code",
      "metadata": {
        "id": "aY5GfVGUWisS"
      },
      "source": [
        "from sklearn.model_selection import train_test_split"
      ],
      "execution_count": null,
      "outputs": []
    },
    {
      "cell_type": "code",
      "metadata": {
        "id": "GTHLcV3PXBiQ"
      },
      "source": [
        "X = tf.keras.preprocessing.sequence.pad_sequences(\n",
        "    arr_numID, maxlen=maxlen, dtype='int32', padding='pre',\n",
        "    truncating='pre', value=0.0\n",
        ")\n",
        "y = df.label.values"
      ],
      "execution_count": null,
      "outputs": []
    },
    {
      "cell_type": "code",
      "metadata": {
        "colab": {
          "base_uri": "https://localhost:8080/"
        },
        "id": "NEyg81d1XD-K",
        "outputId": "e90dd1ab-d90d-42bb-ec7a-0dba2bd584f4"
      },
      "source": [
        "X_trainTMP, X_test, y_trainTMP, y_test = train_test_split(X, y, test_size=0.2)\n",
        "X_train, X_valid, y_train, y_valid = train_test_split(X_trainTMP, y_trainTMP, test_size=0.3, random_state=42)\n",
        "X_train.shape,y_train.shape,X_valid.shape,y_valid.shape,X_test.shape,y_test.shape,"
      ],
      "execution_count": null,
      "outputs": [
        {
          "output_type": "execute_result",
          "data": {
            "text/plain": [
              "((112000, 100), (112000,), (48000, 100), (48000,), (40000, 100), (40000,))"
            ]
          },
          "metadata": {
            "tags": []
          },
          "execution_count": 10
        }
      ]
    },
    {
      "cell_type": "code",
      "metadata": {
        "colab": {
          "base_uri": "https://localhost:8080/"
        },
        "id": "NVsavYCcXH3k",
        "outputId": "a646a795-54a0-4e31-981a-6aca7fbed35d"
      },
      "source": [
        "vocab_size = len(CHARS)\n",
        "print(vocab_size)\n",
        "model = tf.keras.Sequential([\n",
        "    tf.keras.layers.Embedding(vocab_size, 1, input_length=maxlen),\n",
        "    tf.keras.layers.LSTM(1,return_sequences=False),\n",
        "    tf.keras.layers.Dense(1, activation='sigmoid')\n",
        "])\n",
        "model.compile(loss=tf.keras.losses.binary_crossentropy,optimizer='adam',metrics=['accuracy'])\n",
        "model.summary()\n",
        "loss = []\n",
        "val_loss = []\n",
        "acc = []\n",
        "val_acc = []"
      ],
      "execution_count": null,
      "outputs": [
        {
          "output_type": "stream",
          "text": [
            "178\n",
            "Model: \"sequential\"\n",
            "_________________________________________________________________\n",
            "Layer (type)                 Output Shape              Param #   \n",
            "=================================================================\n",
            "embedding (Embedding)        (None, 100, 1)            178       \n",
            "_________________________________________________________________\n",
            "lstm (LSTM)                  (None, 1)                 12        \n",
            "_________________________________________________________________\n",
            "dense (Dense)                (None, 1)                 2         \n",
            "=================================================================\n",
            "Total params: 192\n",
            "Trainable params: 192\n",
            "Non-trainable params: 0\n",
            "_________________________________________________________________\n"
          ],
          "name": "stdout"
        }
      ]
    },
    {
      "cell_type": "code",
      "metadata": {
        "colab": {
          "background_save": true,
          "base_uri": "https://localhost:8080/"
        },
        "id": "D2ukMGaDXQYc",
        "outputId": "fdaa38bd-dad8-4147-da3c-c0b1b97b36ac"
      },
      "source": [
        "%%time\n",
        "history_tmp = model.fit(X_train,y_train,epochs=10,validation_data=(X_valid,y_valid),verbose=1)"
      ],
      "execution_count": null,
      "outputs": [
        {
          "output_type": "stream",
          "text": [
            "Epoch 1/10\n",
            "3500/3500 [==============================] - 80s 22ms/step - loss: 0.3927 - accuracy: 0.8727 - val_loss: 0.1110 - val_accuracy: 0.9665\n",
            "Epoch 2/10\n",
            "3500/3500 [==============================] - 76s 22ms/step - loss: 0.1013 - accuracy: 0.9682 - val_loss: 0.0796 - val_accuracy: 0.9733\n",
            "Epoch 3/10\n",
            "3500/3500 [==============================] - 77s 22ms/step - loss: 0.0788 - accuracy: 0.9729 - val_loss: 0.0650 - val_accuracy: 0.9778\n",
            "Epoch 4/10\n",
            "3500/3500 [==============================] - 76s 22ms/step - loss: 0.0657 - accuracy: 0.9773 - val_loss: 0.0586 - val_accuracy: 0.9794\n",
            "Epoch 5/10\n",
            "3500/3500 [==============================] - 75s 22ms/step - loss: 0.0586 - accuracy: 0.9796 - val_loss: 0.0529 - val_accuracy: 0.9811\n",
            "Epoch 6/10\n",
            "3500/3500 [==============================] - 75s 22ms/step - loss: 0.0553 - accuracy: 0.9804 - val_loss: 0.0515 - val_accuracy: 0.9820\n",
            "Epoch 7/10\n",
            "3500/3500 [==============================] - 77s 22ms/step - loss: 0.0532 - accuracy: 0.9815 - val_loss: 0.0492 - val_accuracy: 0.9824\n",
            "Epoch 8/10\n",
            "3500/3500 [==============================] - 79s 23ms/step - loss: 0.0512 - accuracy: 0.9812 - val_loss: 0.0486 - val_accuracy: 0.9826\n",
            "Epoch 9/10\n",
            "3500/3500 [==============================] - 78s 22ms/step - loss: 0.0510 - accuracy: 0.9821 - val_loss: 0.0492 - val_accuracy: 0.9828\n",
            "Epoch 10/10\n",
            "3500/3500 [==============================] - 77s 22ms/step - loss: 0.0497 - accuracy: 0.9828 - val_loss: 0.0475 - val_accuracy: 0.9833\n",
            "CPU times: user 20min 47s, sys: 56.4 s, total: 21min 43s\n",
            "Wall time: 12min 51s\n"
          ],
          "name": "stdout"
        }
      ]
    },
    {
      "cell_type": "code",
      "metadata": {
        "id": "AUAjF_pJXWWf"
      },
      "source": [
        "loss.extend(history_tmp.history['loss'])\n",
        "val_loss.extend(history_tmp.history['val_loss'])\n",
        "acc.extend(history_tmp.history['accuracy'])\n",
        "val_acc.extend(history_tmp.history['val_accuracy'])"
      ],
      "execution_count": null,
      "outputs": []
    },
    {
      "cell_type": "code",
      "metadata": {
        "colab": {
          "base_uri": "https://localhost:8080/",
          "height": 530
        },
        "id": "EtfzgvOdZPpc",
        "outputId": "784e3731-f0f4-490b-d238-60b1cc5362ee"
      },
      "source": [
        "plt.plot(loss)\n",
        "plt.plot(val_loss)\n",
        "plt.show()\n",
        "plt.plot(acc)\n",
        "plt.plot(val_acc)"
      ],
      "execution_count": null,
      "outputs": [
        {
          "output_type": "display_data",
          "data": {
            "image/png": "[encoded data removed]",
            "text/plain": [
              "<Figure size 432x288 with 1 Axes>"
            ]
          },
          "metadata": {
            "tags": []
          }
        },
        {
          "output_type": "execute_result",
          "data": {
            "text/plain": [
              "[<matplotlib.lines.Line2D at 0x7f547e092090>]"
            ]
          },
          "metadata": {
            "tags": []
          },
          "execution_count": 16
        },
        {
          "output_type": "display_data",
          "data": {
            "image/png": "[encoded data removed]",
            "text/plain": [
              "<Figure size 432x288 with 1 Axes>"
            ]
          },
          "metadata": {
            "tags": []
          }
        }
      ]
    },
    {
      "cell_type": "code",
      "metadata": {
        "colab": {
          "base_uri": "https://localhost:8080/"
        },
        "id": "jNE9EcsnZRXB",
        "outputId": "0e6bb697-6de4-4f41-8546-ffac215ce982"
      },
      "source": [
        "%%time\n",
        "name = \"bhzlyxh.in\"\n",
        "arr = [int(i) for i in name2arr(name).split(\",\")]\n",
        "dataTest = tf.keras.preprocessing.sequence.pad_sequences(np.array([arr]), maxlen=maxlen, dtype='int32', padding='pre',truncating='pre', value=0.0)\n",
        "print (\"This Domain is DGA\" if model.predict_classes(dataTest)[0][0] == 1 else \"This Domain is not DGA\")"
      ],
      "execution_count": null,
      "outputs": [
        {
          "output_type": "stream",
          "text": [
            "This Domain is not DGA\n",
            "CPU times: user 35.6 ms, sys: 2.98 ms, total: 38.6 ms\n",
            "Wall time: 40.3 ms\n"
          ],
          "name": "stdout"
        },
        {
          "output_type": "stream",
          "text": [
            "/usr/local/lib/python3.7/dist-packages/tensorflow/python/keras/engine/sequential.py:450: UserWarning: `model.predict_classes()` is deprecated and will be removed after 2021-01-01. Please use instead:* `np.argmax(model.predict(x), axis=-1)`,   if your model does multi-class classification   (e.g. if it uses a `softmax` last-layer activation).* `(model.predict(x) > 0.5).astype(\"int32\")`,   if your model does binary classification   (e.g. if it uses a `sigmoid` last-layer activation).\n",
            "  warnings.warn('`model.predict_classes()` is deprecated and '\n"
          ],
          "name": "stderr"
        }
      ]
    },
    {
      "cell_type": "code",
      "metadata": {
        "id": "uri0ct5cZblc"
      },
      "source": [
        "from sklearn import metrics"
      ],
      "execution_count": null,
      "outputs": []
    },
    {
      "cell_type": "code",
      "metadata": {
        "colab": {
          "base_uri": "https://localhost:8080/"
        },
        "id": "4aIWa4EGZpUl",
        "outputId": "aceff327-8f16-4e94-efc2-9dd84382016d"
      },
      "source": [
        "pred = model.predict_classes(X_test)"
      ],
      "execution_count": null,
      "outputs": [
        {
          "output_type": "stream",
          "text": [
            "/usr/local/lib/python3.7/dist-packages/tensorflow/python/keras/engine/sequential.py:450: UserWarning: `model.predict_classes()` is deprecated and will be removed after 2021-01-01. Please use instead:* `np.argmax(model.predict(x), axis=-1)`,   if your model does multi-class classification   (e.g. if it uses a `softmax` last-layer activation).* `(model.predict(x) > 0.5).astype(\"int32\")`,   if your model does binary classification   (e.g. if it uses a `sigmoid` last-layer activation).\n",
            "  warnings.warn('`model.predict_classes()` is deprecated and '\n"
          ],
          "name": "stderr"
        }
      ]
    },
    {
      "cell_type": "code",
      "metadata": {
        "colab": {
          "base_uri": "https://localhost:8080/"
        },
        "id": "990ao-gDZrXT",
        "outputId": "100a8c66-cb6f-4ccf-b35f-bccc158b3a81"
      },
      "source": [
        "print(metrics.classification_report(y_test,pred))"
      ],
      "execution_count": null,
      "outputs": [
        {
          "output_type": "stream",
          "text": [
            "              precision    recall  f1-score   support\n",
            "\n",
            "           0       0.98      0.98      0.98     19837\n",
            "           1       0.98      0.98      0.98     20163\n",
            "\n",
            "    accuracy                           0.98     40000\n",
            "   macro avg       0.98      0.98      0.98     40000\n",
            "weighted avg       0.98      0.98      0.98     40000\n",
            "\n"
          ],
          "name": "stdout"
        }
      ]
    },
    {
      "cell_type": "code",
      "metadata": {
        "id": "jJO8B2UfZtY1"
      },
      "source": [
        "pred = model.predict(X_test)\n",
        "fpr, tpr, thresholds = metrics.roc_curve(y_test,pred)"
      ],
      "execution_count": null,
      "outputs": []
    },
    {
      "cell_type": "code",
      "metadata": {
        "colab": {
          "base_uri": "https://localhost:8080/",
          "height": 282
        },
        "id": "GPiD-9eTZwmi",
        "outputId": "21c6afcc-e7cc-4da7-b0da-1412cf6a9b6c"
      },
      "source": [
        "plt.grid()\n",
        "plt.plot(fpr,tpr)"
      ],
      "execution_count": null,
      "outputs": [
        {
          "output_type": "execute_result",
          "data": {
            "text/plain": [
              "[<matplotlib.lines.Line2D at 0x7f546b164810>]"
            ]
          },
          "metadata": {
            "tags": []
          },
          "execution_count": 38
        },
        {
          "output_type": "display_data",
          "data": {
            "image/png": "[encoded data removed]",
            "text/plain": [
              "<Figure size 432x288 with 1 Axes>"
            ]
          },
          "metadata": {
            "tags": [],
            "needs_background": "light"
          }
        }
      ]
    },
    {
      "cell_type": "code",
      "metadata": {
        "id": "CQvqjhb4Zyw4"
      },
      "source": [
        "model.save_weights"
      ],
      "execution_count": null,
      "outputs": []
    }
  ]
}